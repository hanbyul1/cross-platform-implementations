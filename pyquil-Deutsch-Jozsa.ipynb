{
 "cells": [
  {
   "cell_type": "code",
   "execution_count": 1,
   "id": "1a488747-06dc-49a5-b758-3d22574cc50b",
   "metadata": {},
   "outputs": [
    {
     "name": "stdout",
     "output_type": "stream",
     "text": [
      "Program:\n",
      "DECLARE ro BIT[1]\n",
      "X Placeholder(QubitPlaceholder(0x600002751BB0))\n",
      "X Placeholder(QubitPlaceholder(0x600002751BC0))\n",
      "H Placeholder(QubitPlaceholder(0x600002751BB0))\n",
      "H Placeholder(QubitPlaceholder(0x600002751BC0))\n",
      "CNOT Placeholder(QubitPlaceholder(0x600002751BB0)) Placeholder(QubitPlaceholder(0x600002751BC0))\n",
      "X Placeholder(QubitPlaceholder(0x600002751BC0))\n",
      "H Placeholder(QubitPlaceholder(0x600002751BB0))\n",
      "MEASURE Placeholder(QubitPlaceholder(0x600002751BB0)) ro[0]\n",
      "\n"
     ]
    },
    {
     "ename": "QVMError",
     "evalue": "Could not communicate with QVM at http://127.0.0.1:5000",
     "output_type": "error",
     "traceback": [
      "\u001b[0;31m---------------------------------------------------------------------------\u001b[0m",
      "\u001b[0;31mQVMError\u001b[0m                                  Traceback (most recent call last)",
      "Cell \u001b[0;32mIn[1], line 48\u001b[0m\n\u001b[1;32m     45\u001b[0m \u001b[38;5;28mprint\u001b[39m(program)\n\u001b[1;32m     47\u001b[0m \u001b[38;5;66;03m# Initialize the quantum computer simulator\u001b[39;00m\n\u001b[0;32m---> 48\u001b[0m qc \u001b[38;5;241m=\u001b[39m \u001b[43mget_qc\u001b[49m\u001b[43m(\u001b[49m\u001b[38;5;124;43m\"\u001b[39;49m\u001b[38;5;124;43m9q-square-qvm\u001b[39;49m\u001b[38;5;124;43m\"\u001b[39;49m\u001b[43m)\u001b[49m\n\u001b[1;32m     50\u001b[0m \u001b[38;5;66;03m# Compile the program to the appropriate quantum processor\u001b[39;00m\n\u001b[1;32m     51\u001b[0m executable \u001b[38;5;241m=\u001b[39m qc\u001b[38;5;241m.\u001b[39mcompile(program)\n",
      "File \u001b[0;32m~/opt/miniconda3/envs/qiskit_env/lib/python3.8/site-packages/pyquil/api/_quantum_computer.py:865\u001b[0m, in \u001b[0;36mget_qc\u001b[0;34m(***failed resolving arguments***)\u001b[0m\n\u001b[1;32m    863\u001b[0m     \u001b[38;5;28;01mif\u001b[39;00m qvm_type \u001b[38;5;129;01mis\u001b[39;00m \u001b[38;5;28;01mNone\u001b[39;00m:\n\u001b[1;32m    864\u001b[0m         \u001b[38;5;28;01mraise\u001b[39;00m \u001b[38;5;167;01mValueError\u001b[39;00m(\u001b[38;5;124m\"\u001b[39m\u001b[38;5;124mThe quantum_processor \u001b[39m\u001b[38;5;124m'\u001b[39m\u001b[38;5;124m9q-square\u001b[39m\u001b[38;5;124m'\u001b[39m\u001b[38;5;124m is only available as a QVM\u001b[39m\u001b[38;5;124m\"\u001b[39m)\n\u001b[0;32m--> 865\u001b[0m     \u001b[38;5;28;01mreturn\u001b[39;00m \u001b[43m_get_9q_square_qvm\u001b[49m\u001b[43m(\u001b[49m\n\u001b[1;32m    866\u001b[0m \u001b[43m        \u001b[49m\u001b[43mclient_configuration\u001b[49m\u001b[38;5;241;43m=\u001b[39;49m\u001b[43mclient_configuration\u001b[49m\u001b[43m,\u001b[49m\n\u001b[1;32m    867\u001b[0m \u001b[43m        \u001b[49m\u001b[43mname\u001b[49m\u001b[38;5;241;43m=\u001b[39;49m\u001b[43mname\u001b[49m\u001b[43m,\u001b[49m\n\u001b[1;32m    868\u001b[0m \u001b[43m        \u001b[49m\u001b[43mnoisy\u001b[49m\u001b[38;5;241;43m=\u001b[39;49m\u001b[43mnoisy\u001b[49m\u001b[43m,\u001b[49m\n\u001b[1;32m    869\u001b[0m \u001b[43m        \u001b[49m\u001b[43mqvm_type\u001b[49m\u001b[38;5;241;43m=\u001b[39;49m\u001b[43mqvm_type\u001b[49m\u001b[43m,\u001b[49m\n\u001b[1;32m    870\u001b[0m \u001b[43m        \u001b[49m\u001b[43mcompiler_timeout\u001b[49m\u001b[38;5;241;43m=\u001b[39;49m\u001b[43mcompiler_timeout\u001b[49m\u001b[43m,\u001b[49m\n\u001b[1;32m    871\u001b[0m \u001b[43m        \u001b[49m\u001b[43mexecution_timeout\u001b[49m\u001b[38;5;241;43m=\u001b[39;49m\u001b[43mexecution_timeout\u001b[49m\u001b[43m,\u001b[49m\n\u001b[1;32m    872\u001b[0m \u001b[43m        \u001b[49m\u001b[43mquilc_client\u001b[49m\u001b[38;5;241;43m=\u001b[39;49m\u001b[43mquilc_client\u001b[49m\u001b[43m,\u001b[49m\n\u001b[1;32m    873\u001b[0m \u001b[43m        \u001b[49m\u001b[43mqvm_client\u001b[49m\u001b[38;5;241;43m=\u001b[39;49m\u001b[43mqvm_client\u001b[49m\u001b[43m,\u001b[49m\n\u001b[1;32m    874\u001b[0m \u001b[43m    \u001b[49m\u001b[43m)\u001b[49m\n\u001b[1;32m    876\u001b[0m \u001b[38;5;28;01mif\u001b[39;00m noisy:\n\u001b[1;32m    877\u001b[0m     \u001b[38;5;28;01mraise\u001b[39;00m \u001b[38;5;167;01mValueError\u001b[39;00m(\n\u001b[1;32m    878\u001b[0m         \u001b[38;5;124m\"\u001b[39m\u001b[38;5;124mpyQuil currently does not support initializing a noisy QuantumComputer \u001b[39m\u001b[38;5;124m\"\u001b[39m\n\u001b[1;32m    879\u001b[0m         \u001b[38;5;124m\"\u001b[39m\u001b[38;5;124mbased on a QCSQuantumProcessor. Change noisy to False or specify the name of a QVM.\u001b[39m\u001b[38;5;124m\"\u001b[39m\n\u001b[1;32m    880\u001b[0m     )\n",
      "File \u001b[0;32m~/opt/miniconda3/envs/qiskit_env/lib/python3.8/site-packages/pyquil/api/_quantum_computer.py:651\u001b[0m, in \u001b[0;36m_get_9q_square_qvm\u001b[0;34m(client_configuration, name, noisy, qvm_type, compiler_timeout, execution_timeout, quilc_client, qvm_client)\u001b[0m\n\u001b[1;32m    636\u001b[0m \u001b[38;5;250m\u001b[39m\u001b[38;5;124;03m\"\"\"\u001b[39;00m\n\u001b[1;32m    637\u001b[0m \u001b[38;5;124;03mA nine-qubit 3x3 square lattice.\u001b[39;00m\n\u001b[1;32m    638\u001b[0m \n\u001b[0;32m   (...)\u001b[0m\n\u001b[1;32m    648\u001b[0m \u001b[38;5;124;03m:return: A pre-configured QuantumComputer\u001b[39;00m\n\u001b[1;32m    649\u001b[0m \u001b[38;5;124;03m\"\"\"\u001b[39;00m\n\u001b[1;32m    650\u001b[0m topology \u001b[38;5;241m=\u001b[39m nx\u001b[38;5;241m.\u001b[39mconvert_node_labels_to_integers(nx\u001b[38;5;241m.\u001b[39mgrid_2d_graph(\u001b[38;5;241m3\u001b[39m, \u001b[38;5;241m3\u001b[39m))\n\u001b[0;32m--> 651\u001b[0m \u001b[38;5;28;01mreturn\u001b[39;00m \u001b[43m_get_qvm_with_topology\u001b[49m\u001b[43m(\u001b[49m\n\u001b[1;32m    652\u001b[0m \u001b[43m    \u001b[49m\u001b[43mclient_configuration\u001b[49m\u001b[38;5;241;43m=\u001b[39;49m\u001b[43mclient_configuration\u001b[49m\u001b[43m,\u001b[49m\n\u001b[1;32m    653\u001b[0m \u001b[43m    \u001b[49m\u001b[43mname\u001b[49m\u001b[38;5;241;43m=\u001b[39;49m\u001b[43mname\u001b[49m\u001b[43m,\u001b[49m\n\u001b[1;32m    654\u001b[0m \u001b[43m    \u001b[49m\u001b[43mtopology\u001b[49m\u001b[38;5;241;43m=\u001b[39;49m\u001b[43mtopology\u001b[49m\u001b[43m,\u001b[49m\n\u001b[1;32m    655\u001b[0m \u001b[43m    \u001b[49m\u001b[43mnoisy\u001b[49m\u001b[38;5;241;43m=\u001b[39;49m\u001b[43mnoisy\u001b[49m\u001b[43m,\u001b[49m\n\u001b[1;32m    656\u001b[0m \u001b[43m    \u001b[49m\u001b[43mqvm_type\u001b[49m\u001b[38;5;241;43m=\u001b[39;49m\u001b[43mqvm_type\u001b[49m\u001b[43m,\u001b[49m\n\u001b[1;32m    657\u001b[0m \u001b[43m    \u001b[49m\u001b[43mcompiler_timeout\u001b[49m\u001b[38;5;241;43m=\u001b[39;49m\u001b[43mcompiler_timeout\u001b[49m\u001b[43m,\u001b[49m\n\u001b[1;32m    658\u001b[0m \u001b[43m    \u001b[49m\u001b[43mexecution_timeout\u001b[49m\u001b[38;5;241;43m=\u001b[39;49m\u001b[43mexecution_timeout\u001b[49m\u001b[43m,\u001b[49m\n\u001b[1;32m    659\u001b[0m \u001b[43m    \u001b[49m\u001b[43mquilc_client\u001b[49m\u001b[38;5;241;43m=\u001b[39;49m\u001b[43mquilc_client\u001b[49m\u001b[43m,\u001b[49m\n\u001b[1;32m    660\u001b[0m \u001b[43m    \u001b[49m\u001b[43mqvm_client\u001b[49m\u001b[38;5;241;43m=\u001b[39;49m\u001b[43mqvm_client\u001b[49m\u001b[43m,\u001b[49m\n\u001b[1;32m    661\u001b[0m \u001b[43m\u001b[49m\u001b[43m)\u001b[49m\n",
      "File \u001b[0;32m~/opt/miniconda3/envs/qiskit_env/lib/python3.8/site-packages/pyquil/api/_quantum_computer.py:612\u001b[0m, in \u001b[0;36m_get_qvm_with_topology\u001b[0;34m(client_configuration, name, topology, noisy, qvm_type, compiler_timeout, execution_timeout, quilc_client, qvm_client)\u001b[0m\n\u001b[1;32m    610\u001b[0m \u001b[38;5;28;01melse\u001b[39;00m:\n\u001b[1;32m    611\u001b[0m     noise_model \u001b[38;5;241m=\u001b[39m \u001b[38;5;28;01mNone\u001b[39;00m\n\u001b[0;32m--> 612\u001b[0m \u001b[38;5;28;01mreturn\u001b[39;00m \u001b[43m_get_qvm_qc\u001b[49m\u001b[43m(\u001b[49m\n\u001b[1;32m    613\u001b[0m \u001b[43m    \u001b[49m\u001b[43mclient_configuration\u001b[49m\u001b[38;5;241;43m=\u001b[39;49m\u001b[43mclient_configuration\u001b[49m\u001b[43m,\u001b[49m\n\u001b[1;32m    614\u001b[0m \u001b[43m    \u001b[49m\u001b[43mname\u001b[49m\u001b[38;5;241;43m=\u001b[39;49m\u001b[43mname\u001b[49m\u001b[43m,\u001b[49m\n\u001b[1;32m    615\u001b[0m \u001b[43m    \u001b[49m\u001b[43mqvm_type\u001b[49m\u001b[38;5;241;43m=\u001b[39;49m\u001b[43mqvm_type\u001b[49m\u001b[43m,\u001b[49m\n\u001b[1;32m    616\u001b[0m \u001b[43m    \u001b[49m\u001b[43mquantum_processor\u001b[49m\u001b[38;5;241;43m=\u001b[39;49m\u001b[43mquantum_processor\u001b[49m\u001b[43m,\u001b[49m\n\u001b[1;32m    617\u001b[0m \u001b[43m    \u001b[49m\u001b[43mnoise_model\u001b[49m\u001b[38;5;241;43m=\u001b[39;49m\u001b[43mnoise_model\u001b[49m\u001b[43m,\u001b[49m\n\u001b[1;32m    618\u001b[0m \u001b[43m    \u001b[49m\u001b[43mcompiler_timeout\u001b[49m\u001b[38;5;241;43m=\u001b[39;49m\u001b[43mcompiler_timeout\u001b[49m\u001b[43m,\u001b[49m\n\u001b[1;32m    619\u001b[0m \u001b[43m    \u001b[49m\u001b[43mexecution_timeout\u001b[49m\u001b[38;5;241;43m=\u001b[39;49m\u001b[43mexecution_timeout\u001b[49m\u001b[43m,\u001b[49m\n\u001b[1;32m    620\u001b[0m \u001b[43m    \u001b[49m\u001b[43mquilc_client\u001b[49m\u001b[38;5;241;43m=\u001b[39;49m\u001b[43mquilc_client\u001b[49m\u001b[43m,\u001b[49m\n\u001b[1;32m    621\u001b[0m \u001b[43m    \u001b[49m\u001b[43mqvm_client\u001b[49m\u001b[38;5;241;43m=\u001b[39;49m\u001b[43mqvm_client\u001b[49m\u001b[43m,\u001b[49m\n\u001b[1;32m    622\u001b[0m \u001b[43m\u001b[49m\u001b[43m)\u001b[49m\n",
      "File \u001b[0;32m~/opt/miniconda3/envs/qiskit_env/lib/python3.8/site-packages/pyquil/api/_quantum_computer.py:562\u001b[0m, in \u001b[0;36m_get_qvm_qc\u001b[0;34m(client_configuration, name, qvm_type, quantum_processor, compiler_timeout, execution_timeout, noise_model, quilc_client, qvm_client)\u001b[0m\n\u001b[1;32m    534\u001b[0m \u001b[38;5;28;01mdef\u001b[39;00m \u001b[38;5;21m_get_qvm_qc\u001b[39m(\n\u001b[1;32m    535\u001b[0m     \u001b[38;5;241m*\u001b[39m,\n\u001b[1;32m    536\u001b[0m     client_configuration: QCSClient,\n\u001b[0;32m   (...)\u001b[0m\n\u001b[1;32m    544\u001b[0m     qvm_client: Optional[QVMClient] \u001b[38;5;241m=\u001b[39m \u001b[38;5;28;01mNone\u001b[39;00m,\n\u001b[1;32m    545\u001b[0m ) \u001b[38;5;241m-\u001b[39m\u001b[38;5;241m>\u001b[39m QuantumComputer:\n\u001b[1;32m    546\u001b[0m \u001b[38;5;250m    \u001b[39m\u001b[38;5;124;03m\"\"\"Construct a QuantumComputer backed by a QVM.\u001b[39;00m\n\u001b[1;32m    547\u001b[0m \n\u001b[1;32m    548\u001b[0m \u001b[38;5;124;03m    This is a minimal wrapper over the QuantumComputer, QVM, and QVMCompiler constructors.\u001b[39;00m\n\u001b[0;32m   (...)\u001b[0m\n\u001b[1;32m    557\u001b[0m \u001b[38;5;124;03m    :return: A QuantumComputer backed by a QVM with the above options.\u001b[39;00m\n\u001b[1;32m    558\u001b[0m \u001b[38;5;124;03m    \"\"\"\u001b[39;00m\n\u001b[1;32m    560\u001b[0m     \u001b[38;5;28;01mreturn\u001b[39;00m QuantumComputer(\n\u001b[1;32m    561\u001b[0m         name\u001b[38;5;241m=\u001b[39mname,\n\u001b[0;32m--> 562\u001b[0m         qam\u001b[38;5;241m=\u001b[39m\u001b[43m_get_qvm_or_pyqvm\u001b[49m\u001b[43m(\u001b[49m\n\u001b[1;32m    563\u001b[0m \u001b[43m            \u001b[49m\u001b[43mqvm_type\u001b[49m\u001b[38;5;241;43m=\u001b[39;49m\u001b[43mqvm_type\u001b[49m\u001b[43m,\u001b[49m\n\u001b[1;32m    564\u001b[0m \u001b[43m            \u001b[49m\u001b[43mnoise_model\u001b[49m\u001b[38;5;241;43m=\u001b[39;49m\u001b[43mnoise_model\u001b[49m\u001b[43m,\u001b[49m\n\u001b[1;32m    565\u001b[0m \u001b[43m            \u001b[49m\u001b[43mquantum_processor\u001b[49m\u001b[38;5;241;43m=\u001b[39;49m\u001b[43mquantum_processor\u001b[49m\u001b[43m,\u001b[49m\n\u001b[1;32m    566\u001b[0m \u001b[43m            \u001b[49m\u001b[43mexecution_timeout\u001b[49m\u001b[38;5;241;43m=\u001b[39;49m\u001b[43mexecution_timeout\u001b[49m\u001b[43m,\u001b[49m\n\u001b[1;32m    567\u001b[0m \u001b[43m            \u001b[49m\u001b[43mqvm_client\u001b[49m\u001b[38;5;241;43m=\u001b[39;49m\u001b[43mqvm_client\u001b[49m\u001b[43m,\u001b[49m\n\u001b[1;32m    568\u001b[0m \u001b[43m        \u001b[49m\u001b[43m)\u001b[49m,\n\u001b[1;32m    569\u001b[0m         compiler\u001b[38;5;241m=\u001b[39mQVMCompiler(\n\u001b[1;32m    570\u001b[0m             quantum_processor\u001b[38;5;241m=\u001b[39mquantum_processor,\n\u001b[1;32m    571\u001b[0m             timeout\u001b[38;5;241m=\u001b[39mcompiler_timeout,\n\u001b[1;32m    572\u001b[0m             client_configuration\u001b[38;5;241m=\u001b[39mclient_configuration,\n\u001b[1;32m    573\u001b[0m             quilc_client\u001b[38;5;241m=\u001b[39mquilc_client,\n\u001b[1;32m    574\u001b[0m         ),\n\u001b[1;32m    575\u001b[0m     )\n",
      "File \u001b[0;32m~/opt/miniconda3/envs/qiskit_env/lib/python3.8/site-packages/pyquil/api/_quantum_computer.py:526\u001b[0m, in \u001b[0;36m_get_qvm_or_pyqvm\u001b[0;34m(qvm_type, qvm_client, noise_model, quantum_processor, execution_timeout)\u001b[0m\n\u001b[1;32m    517\u001b[0m \u001b[38;5;28;01mdef\u001b[39;00m \u001b[38;5;21m_get_qvm_or_pyqvm\u001b[39m(\n\u001b[1;32m    518\u001b[0m     \u001b[38;5;241m*\u001b[39m,\n\u001b[1;32m    519\u001b[0m     qvm_type: \u001b[38;5;28mstr\u001b[39m,\n\u001b[0;32m   (...)\u001b[0m\n\u001b[1;32m    523\u001b[0m     execution_timeout: \u001b[38;5;28mfloat\u001b[39m,\n\u001b[1;32m    524\u001b[0m ) \u001b[38;5;241m-\u001b[39m\u001b[38;5;241m>\u001b[39m Union[QVM, PyQVM]:\n\u001b[1;32m    525\u001b[0m     \u001b[38;5;28;01mif\u001b[39;00m qvm_type \u001b[38;5;241m==\u001b[39m \u001b[38;5;124m\"\u001b[39m\u001b[38;5;124mqvm\u001b[39m\u001b[38;5;124m\"\u001b[39m:\n\u001b[0;32m--> 526\u001b[0m         \u001b[38;5;28;01mreturn\u001b[39;00m \u001b[43mQVM\u001b[49m\u001b[43m(\u001b[49m\u001b[43mnoise_model\u001b[49m\u001b[38;5;241;43m=\u001b[39;49m\u001b[43mnoise_model\u001b[49m\u001b[43m,\u001b[49m\u001b[43m \u001b[49m\u001b[43mtimeout\u001b[49m\u001b[38;5;241;43m=\u001b[39;49m\u001b[43mexecution_timeout\u001b[49m\u001b[43m,\u001b[49m\u001b[43m \u001b[49m\u001b[43mclient\u001b[49m\u001b[38;5;241;43m=\u001b[39;49m\u001b[43mqvm_client\u001b[49m\u001b[43m)\u001b[49m\n\u001b[1;32m    527\u001b[0m     \u001b[38;5;28;01melif\u001b[39;00m qvm_type \u001b[38;5;241m==\u001b[39m \u001b[38;5;124m\"\u001b[39m\u001b[38;5;124mpyqvm\u001b[39m\u001b[38;5;124m\"\u001b[39m:\n\u001b[1;32m    528\u001b[0m         \u001b[38;5;28;01massert\u001b[39;00m quantum_processor \u001b[38;5;129;01mis\u001b[39;00m \u001b[38;5;129;01mnot\u001b[39;00m \u001b[38;5;28;01mNone\u001b[39;00m\n",
      "File \u001b[0;32m~/opt/miniconda3/envs/qiskit_env/lib/python3.8/site-packages/pyquil/api/_qvm.py:121\u001b[0m, in \u001b[0;36mQVM.__init__\u001b[0;34m(self, noise_model, gate_noise, measurement_noise, random_seed, timeout, client)\u001b[0m\n\u001b[1;32m    118\u001b[0m     client \u001b[38;5;241m=\u001b[39m QVMClient\u001b[38;5;241m.\u001b[39mnew_http(QCSClient\u001b[38;5;241m.\u001b[39mload()\u001b[38;5;241m.\u001b[39mqvm_url)\n\u001b[1;32m    119\u001b[0m \u001b[38;5;28mself\u001b[39m\u001b[38;5;241m.\u001b[39m_client \u001b[38;5;241m=\u001b[39m client\n\u001b[0;32m--> 121\u001b[0m \u001b[38;5;28;43mself\u001b[39;49m\u001b[38;5;241;43m.\u001b[39;49m\u001b[43mconnect\u001b[49m\u001b[43m(\u001b[49m\u001b[43m)\u001b[49m\n",
      "File \u001b[0;32m~/opt/miniconda3/envs/qiskit_env/lib/python3.8/site-packages/pyquil/api/_qvm.py:125\u001b[0m, in \u001b[0;36mQVM.connect\u001b[0;34m(self)\u001b[0m\n\u001b[1;32m    123\u001b[0m \u001b[38;5;28;01mdef\u001b[39;00m \u001b[38;5;21mconnect\u001b[39m(\u001b[38;5;28mself\u001b[39m) \u001b[38;5;241m-\u001b[39m\u001b[38;5;241m>\u001b[39m \u001b[38;5;28;01mNone\u001b[39;00m:\n\u001b[1;32m    124\u001b[0m     \u001b[38;5;28;01mtry\u001b[39;00m:\n\u001b[0;32m--> 125\u001b[0m         version \u001b[38;5;241m=\u001b[39m \u001b[38;5;28;43mself\u001b[39;49m\u001b[38;5;241;43m.\u001b[39;49m\u001b[43mget_version_info\u001b[49m\u001b[43m(\u001b[49m\u001b[43m)\u001b[49m\n\u001b[1;32m    126\u001b[0m         check_qvm_version(version)\n\u001b[1;32m    127\u001b[0m     \u001b[38;5;28;01mexcept\u001b[39;00m \u001b[38;5;167;01mConnectionError\u001b[39;00m:\n",
      "File \u001b[0;32m~/opt/miniconda3/envs/qiskit_env/lib/python3.8/site-packages/pyquil/api/_qvm.py:189\u001b[0m, in \u001b[0;36mQVM.get_version_info\u001b[0;34m(self)\u001b[0m\n\u001b[1;32m    183\u001b[0m \u001b[38;5;28;01mdef\u001b[39;00m \u001b[38;5;21mget_version_info\u001b[39m(\u001b[38;5;28mself\u001b[39m) \u001b[38;5;241m-\u001b[39m\u001b[38;5;241m>\u001b[39m \u001b[38;5;28mstr\u001b[39m:\n\u001b[1;32m    184\u001b[0m \u001b[38;5;250m    \u001b[39m\u001b[38;5;124;03m\"\"\"\u001b[39;00m\n\u001b[1;32m    185\u001b[0m \u001b[38;5;124;03m    Return version information for the QVM.\u001b[39;00m\n\u001b[1;32m    186\u001b[0m \n\u001b[1;32m    187\u001b[0m \u001b[38;5;124;03m    :return: String with version information\u001b[39;00m\n\u001b[1;32m    188\u001b[0m \u001b[38;5;124;03m    \"\"\"\u001b[39;00m\n\u001b[0;32m--> 189\u001b[0m     \u001b[38;5;28;01mreturn\u001b[39;00m \u001b[43mqvm\u001b[49m\u001b[38;5;241;43m.\u001b[39;49m\u001b[43mapi\u001b[49m\u001b[38;5;241;43m.\u001b[39;49m\u001b[43mget_version_info\u001b[49m\u001b[43m(\u001b[49m\u001b[38;5;28;43mself\u001b[39;49m\u001b[38;5;241;43m.\u001b[39;49m\u001b[43m_client\u001b[49m\u001b[43m,\u001b[49m\u001b[43m \u001b[49m\u001b[43moptions\u001b[49m\u001b[38;5;241;43m=\u001b[39;49m\u001b[43mQVMOptions\u001b[49m\u001b[43m(\u001b[49m\u001b[43mtimeout_seconds\u001b[49m\u001b[38;5;241;43m=\u001b[39;49m\u001b[38;5;28;43mself\u001b[39;49m\u001b[38;5;241;43m.\u001b[39;49m\u001b[43mtimeout\u001b[49m\u001b[43m)\u001b[49m\u001b[43m)\u001b[49m\n",
      "\u001b[0;31mQVMError\u001b[0m: Could not communicate with QVM at http://127.0.0.1:5000"
     ]
    }
   ],
   "source": [
    "from pyquil import Program\n",
    "from pyquil.gates import X, H, CNOT, MEASURE\n",
    "import numpy as np\n",
    "from pyquil.quilatom import QubitPlaceholder\n",
    "from pyquil import get_qc\n",
    "\n",
    "def deutsch_jozsa_oracle(prog, q0, q1):\n",
    "    \"\"\"Implements the oracle function using CNOT and X gates.\"\"\"\n",
    "    prog += CNOT(q0, q1)\n",
    "    prog += X(q1)\n",
    "    return prog\n",
    "\n",
    "def deutsch_jozsa_algorithm():\n",
    "    # Create a quantum program\n",
    "    prog = Program()\n",
    "    \n",
    "    # Allocate two qubit placeholders\n",
    "    q0, q1 = QubitPlaceholder(), QubitPlaceholder()\n",
    "    \n",
    "    # Classical register for measurement\n",
    "    ro = prog.declare('ro', 'BIT', 1)\n",
    "    \n",
    "    # Initialize q0 and q1 to |1⟩\n",
    "    prog += X(q0)\n",
    "    prog += X(q1)\n",
    "    \n",
    "    # Apply Hadamard gates to create superposition\n",
    "    prog += H(q0)\n",
    "    prog += H(q1)\n",
    "    \n",
    "    # Apply the oracle function\n",
    "    prog = deutsch_jozsa_oracle(prog, q0, q1)\n",
    "    \n",
    "    # Apply final Hadamard gate to q0\n",
    "    prog += H(q0)\n",
    "    \n",
    "    # Measure the first qubit\n",
    "    prog += MEASURE(q0, ro[0])\n",
    "    \n",
    "    return prog\n",
    "\n",
    "# Create the quantum program\n",
    "program = deutsch_jozsa_algorithm()\n",
    "print(\"Program:\")\n",
    "print(program)\n",
    "\n",
    "# Initialize the quantum computer simulator\n",
    "qc = get_qc(\"9q-square-qvm\")\n",
    "\n",
    "# Compile the program to the appropriate quantum processor\n",
    "executable = qc.compile(program)\n",
    "\n",
    "# Run the program on the QVM\n",
    "result = qc.run(executable)\n",
    "measurement_results = result.readout_data.get('ro')\n",
    "print(\"\\nMeasurement results:\", np.sum(measurement_results))\n"
   ]
  },
  {
   "cell_type": "code",
   "execution_count": null,
   "id": "00ce2248-8738-4171-8a17-06fab70bddfa",
   "metadata": {},
   "outputs": [],
   "source": []
  }
 ],
 "metadata": {
  "kernelspec": {
   "display_name": "Python 3 (ipykernel)",
   "language": "python",
   "name": "python3"
  },
  "language_info": {
   "codemirror_mode": {
    "name": "ipython",
    "version": 3
   },
   "file_extension": ".py",
   "mimetype": "text/x-python",
   "name": "python",
   "nbconvert_exporter": "python",
   "pygments_lexer": "ipython3",
   "version": "3.8.19"
  }
 },
 "nbformat": 4,
 "nbformat_minor": 5
}
