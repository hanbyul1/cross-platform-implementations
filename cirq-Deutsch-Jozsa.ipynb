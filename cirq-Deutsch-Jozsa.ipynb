{
 "cells": [
  {
   "cell_type": "code",
   "execution_count": 4,
   "id": "7e915a79-399f-4423-b894-f703ab3a2207",
   "metadata": {},
   "outputs": [
    {
     "name": "stdout",
     "output_type": "stream",
     "text": [
      "Circuit:\n",
      "0: ───X───H───@───H───M('result')───\n",
      "              │\n",
      "1: ───X───H───X───X─────────────────\n",
      "\n",
      "Measurement results: Counter({0: 100})\n"
     ]
    }
   ],
   "source": [
    "import cirq\n",
    "import numpy as np\n",
    "\n",
    "def deutsch_jozsa_oracle(circuit, q0, q1):\n",
    "    \"\"\"Implements the oracle function using CNOT and X gates.\"\"\"\n",
    "    circuit.append([\n",
    "        cirq.CNOT(q0, q1),\n",
    "        cirq.X(q1)\n",
    "    ])\n",
    "\n",
    "def deutsch_jozsa_algorithm():\n",
    "    # Create a circuit with two qubits\n",
    "    q0, q1 = cirq.LineQubit.range(2)\n",
    "    circuit = cirq.Circuit()\n",
    "\n",
    "    # Initialize q0 to |1⟩ and q1 to |1⟩\n",
    "    circuit.append([\n",
    "        cirq.X(q0),\n",
    "        cirq.X(q1)\n",
    "    ])\n",
    "\n",
    "    # Apply Hadamard gates to put qubits in superposition\n",
    "    circuit.append([\n",
    "        cirq.H(q0),\n",
    "        cirq.H(q1)\n",
    "    ])\n",
    "\n",
    "    # Apply the oracle function\n",
    "    deutsch_jozsa_oracle(circuit, q0, q1)\n",
    "\n",
    "    # Apply final Hadamard gate to q0\n",
    "    circuit.append([\n",
    "        cirq.H(q0)\n",
    "    ])\n",
    "\n",
    "    # Measure the first qubit\n",
    "    circuit.append(cirq.measure(q0, key='result'))\n",
    "\n",
    "    return circuit\n",
    "\n",
    "# Create and run the circuit\n",
    "circuit = deutsch_jozsa_algorithm()\n",
    "print(\"Circuit:\")\n",
    "print(circuit)\n",
    "\n",
    "# Simulate the circuit\n",
    "simulator = cirq.Simulator()\n",
    "result = simulator.run(circuit, repetitions=100)\n",
    "print(\"\\nMeasurement results:\", result.histogram(key='result'))"
   ]
  },
  {
   "cell_type": "code",
   "execution_count": null,
   "id": "bba61d61-c0ee-42c6-bbc8-5449e03ef0ec",
   "metadata": {},
   "outputs": [],
   "source": []
  }
 ],
 "metadata": {
  "kernelspec": {
   "display_name": "Python 3 (ipykernel)",
   "language": "python",
   "name": "python3"
  },
  "language_info": {
   "codemirror_mode": {
    "name": "ipython",
    "version": 3
   },
   "file_extension": ".py",
   "mimetype": "text/x-python",
   "name": "python",
   "nbconvert_exporter": "python",
   "pygments_lexer": "ipython3",
   "version": "3.8.19"
  }
 },
 "nbformat": 4,
 "nbformat_minor": 5
}
