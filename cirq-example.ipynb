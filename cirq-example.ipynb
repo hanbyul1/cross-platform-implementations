{
 "cells": [
  {
   "cell_type": "code",
   "execution_count": 1,
   "id": "d520b099-3544-4677-bce2-ac2073e9e2b0",
   "metadata": {},
   "outputs": [],
   "source": [
    "import cirq\n",
    "import numpy as np\n",
    "\n",
    "def cirq_implementation():\n",
    "    # Create two qubits\n",
    "    q0, q1 = cirq.LineQubit.range(2)\n",
    "    \n",
    "    # Create circuit\n",
    "    circuit = cirq.Circuit()\n",
    "    \n",
    "    # Initialize q[0] to |1⟩\n",
    "    circuit.append(cirq.X(q0))\n",
    "    \n",
    "    # Apply Hadamard to q[1]\n",
    "    circuit.append(cirq.H(q1))\n",
    "    \n",
    "    # Apply phase gate to q[1]\n",
    "    circuit.append(cirq.ZPowGate(exponent=0.25)(q1))  # π/4 phase\n",
    "    \n",
    "    # Apply CNOT with q[1] as control and q[0] as target\n",
    "    circuit.append(cirq.CNOT(q1, q0))\n",
    "    \n",
    "    # Apply negative phase gate to q[0]\n",
    "    circuit.append(cirq.ZPowGate(exponent=-0.25)(q0))  # -π/4 phase\n",
    "    \n",
    "    # Apply final Hadamard to q[0]\n",
    "    circuit.append(cirq.H(q0))\n",
    "    \n",
    "    # Measurement\n",
    "    circuit.append(cirq.measure(q0, q1, key='result'))\n",
    "    \n",
    "    return circuit"
   ]
  },
  {
   "cell_type": "code",
   "execution_count": null,
   "id": "7aec7089-21b4-434d-b695-edbed42ab329",
   "metadata": {},
   "outputs": [],
   "source": []
  }
 ],
 "metadata": {
  "kernelspec": {
   "display_name": "Python 3 (ipykernel)",
   "language": "python",
   "name": "python3"
  },
  "language_info": {
   "codemirror_mode": {
    "name": "ipython",
    "version": 3
   },
   "file_extension": ".py",
   "mimetype": "text/x-python",
   "name": "python",
   "nbconvert_exporter": "python",
   "pygments_lexer": "ipython3",
   "version": "3.8.19"
  }
 },
 "nbformat": 4,
 "nbformat_minor": 5
}
