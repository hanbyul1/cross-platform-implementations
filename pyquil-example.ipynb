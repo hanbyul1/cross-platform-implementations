{
 "cells": [
  {
   "cell_type": "code",
   "execution_count": 3,
   "id": "71cfb0de-54a2-46c2-bc9a-92a48254d836",
   "metadata": {},
   "outputs": [],
   "source": [
    "from pyquil import Program\n",
    "from pyquil.gates import X, H, PHASE, CNOT\n",
    "from pyquil.api import get_qc\n",
    "\n",
    "def pyquil_implementation():\n",
    "    # Create a program\n",
    "    p = Program()\n",
    "    \n",
    "    # Initialize q[0] to |1⟩\n",
    "    p += X(0)\n",
    "    \n",
    "    # Apply Hadamard to q[1]\n",
    "    p += H(1)\n",
    "    \n",
    "    # Apply phase gate to q[1]\n",
    "    p += PHASE(np.pi/4, 1)\n",
    "    \n",
    "    # Apply CNOT with q[1] as control and q[0] as target\n",
    "    p += CNOT(1, 0)\n",
    "    \n",
    "    # Apply negative phase gate to q[0]\n",
    "    p += PHASE(-np.pi/4, 0)\n",
    "    \n",
    "    # Apply final Hadamard to q[0]\n",
    "    p += H(0)\n",
    "    \n",
    "    # Add classical memory\n",
    "    ro = p.declare('ro', 'BIT', 2)\n",
    "    p.measure(0, ro[0])\n",
    "    p.measure(1, ro[1])\n",
    "    \n",
    "    return p"
   ]
  },
  {
   "cell_type": "code",
   "execution_count": null,
   "id": "211b6233-cdde-4699-b373-7ab39c0a73ed",
   "metadata": {},
   "outputs": [],
   "source": []
  }
 ],
 "metadata": {
  "kernelspec": {
   "display_name": "Python 3 (ipykernel)",
   "language": "python",
   "name": "python3"
  },
  "language_info": {
   "codemirror_mode": {
    "name": "ipython",
    "version": 3
   },
   "file_extension": ".py",
   "mimetype": "text/x-python",
   "name": "python",
   "nbconvert_exporter": "python",
   "pygments_lexer": "ipython3",
   "version": "3.8.19"
  }
 },
 "nbformat": 4,
 "nbformat_minor": 5
}
